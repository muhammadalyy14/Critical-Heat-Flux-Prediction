{
 "cells": [
  {
   "cell_type": "markdown",
   "metadata": {},
   "source": [
    "Install Librarires"
   ]
  },
  {
   "cell_type": "code",
   "execution_count": 3,
   "metadata": {},
   "outputs": [],
   "source": [
    "import pandas as pd\n",
    "import matplotlib.pyplot as plt\n",
    "from sklearn.preprocessing import StandardScaler\n",
    "from sklearn.model_selection import train_test_split\n",
    "import torch\n"
   ]
  },
  {
   "cell_type": "markdown",
   "metadata": {},
   "source": [
    "Load Data"
   ]
  },
  {
   "cell_type": "code",
   "execution_count": 6,
   "metadata": {},
   "outputs": [
    {
     "data": {
      "text/html": [
       "<div>\n",
       "<style scoped>\n",
       "    .dataframe tbody tr th:only-of-type {\n",
       "        vertical-align: middle;\n",
       "    }\n",
       "\n",
       "    .dataframe tbody tr th {\n",
       "        vertical-align: top;\n",
       "    }\n",
       "\n",
       "    .dataframe thead th {\n",
       "        text-align: right;\n",
       "    }\n",
       "</style>\n",
       "<table border=\"1\" class=\"dataframe\">\n",
       "  <thead>\n",
       "    <tr style=\"text-align: right;\">\n",
       "      <th></th>\n",
       "      <th>id</th>\n",
       "      <th>pressure [MPa]</th>\n",
       "      <th>mass_flux [kg/m2-s]</th>\n",
       "      <th>x_e_out</th>\n",
       "      <th>D_e [mm]</th>\n",
       "      <th>D_h [mm]</th>\n",
       "      <th>length [mm]</th>\n",
       "      <th>chf_exp [MW/m2]</th>\n",
       "    </tr>\n",
       "  </thead>\n",
       "  <tbody>\n",
       "    <tr>\n",
       "      <th>0</th>\n",
       "      <td>1</td>\n",
       "      <td>0.39</td>\n",
       "      <td>5600</td>\n",
       "      <td>-0.1041</td>\n",
       "      <td>3.0</td>\n",
       "      <td>3.0</td>\n",
       "      <td>100</td>\n",
       "      <td>11.3</td>\n",
       "    </tr>\n",
       "    <tr>\n",
       "      <th>1</th>\n",
       "      <td>2</td>\n",
       "      <td>0.31</td>\n",
       "      <td>6700</td>\n",
       "      <td>-0.0596</td>\n",
       "      <td>3.0</td>\n",
       "      <td>3.0</td>\n",
       "      <td>100</td>\n",
       "      <td>10.6</td>\n",
       "    </tr>\n",
       "    <tr>\n",
       "      <th>2</th>\n",
       "      <td>3</td>\n",
       "      <td>0.33</td>\n",
       "      <td>4300</td>\n",
       "      <td>-0.0395</td>\n",
       "      <td>3.0</td>\n",
       "      <td>3.0</td>\n",
       "      <td>100</td>\n",
       "      <td>7.3</td>\n",
       "    </tr>\n",
       "    <tr>\n",
       "      <th>3</th>\n",
       "      <td>4</td>\n",
       "      <td>0.62</td>\n",
       "      <td>6400</td>\n",
       "      <td>-0.1460</td>\n",
       "      <td>3.0</td>\n",
       "      <td>3.0</td>\n",
       "      <td>100</td>\n",
       "      <td>12.8</td>\n",
       "    </tr>\n",
       "    <tr>\n",
       "      <th>4</th>\n",
       "      <td>5</td>\n",
       "      <td>0.64</td>\n",
       "      <td>4700</td>\n",
       "      <td>-0.0849</td>\n",
       "      <td>3.0</td>\n",
       "      <td>3.0</td>\n",
       "      <td>100</td>\n",
       "      <td>11.0</td>\n",
       "    </tr>\n",
       "  </tbody>\n",
       "</table>\n",
       "</div>"
      ],
      "text/plain": [
       "   id  pressure [MPa]  mass_flux [kg/m2-s]  x_e_out  D_e [mm]  D_h [mm]  \\\n",
       "0   1            0.39                 5600  -0.1041       3.0       3.0   \n",
       "1   2            0.31                 6700  -0.0596       3.0       3.0   \n",
       "2   3            0.33                 4300  -0.0395       3.0       3.0   \n",
       "3   4            0.62                 6400  -0.1460       3.0       3.0   \n",
       "4   5            0.64                 4700  -0.0849       3.0       3.0   \n",
       "\n",
       "   length [mm]  chf_exp [MW/m2]  \n",
       "0          100             11.3  \n",
       "1          100             10.6  \n",
       "2          100              7.3  \n",
       "3          100             12.8  \n",
       "4          100             11.0  "
      ]
     },
     "execution_count": 6,
     "metadata": {},
     "output_type": "execute_result"
    }
   ],
   "source": [
    "# Load the dataset\n",
    "data_path = r'C:\\Users\\ali-mm\\Desktop\\GENed\\Data_CHF_Zhao_2020_ATE.csv'\n",
    "data = pd.read_csv(data_path)\n",
    "data = data.drop(columns=['author','geometry'])\n",
    "data = data.rename(columns={'x_e_out [-]': 'x_e_out'})\n",
    "# Display the first few rows of the dataset\n",
    "data.head()"
   ]
  },
  {
   "cell_type": "markdown",
   "metadata": {},
   "source": [
    "Exploratory Data Analysis (EDA)"
   ]
  },
  {
   "cell_type": "code",
   "execution_count": 20,
   "metadata": {},
   "outputs": [
    {
     "data": {
      "image/png": "[encoded data removed]",
      "text/plain": [
       "<Figure size 640x480 with 1 Axes>"
      ]
     },
     "metadata": {},
     "output_type": "display_data"
    }
   ],
   "source": [
    "# Basic statistics\n",
    "data.describe()\n",
    "\n",
    "# Check for missing values\n",
    "data.isnull().sum()\n",
    "\n",
    "# Distribution of the target variable\n",
    "\n",
    "plt.hist(data['x_e_out'], bins=30)\n",
    "plt.xlabel('x_e_out')\n",
    "plt.ylabel('Frequency')\n",
    "plt.title('Distribution of x_e_out')\n",
    "plt.show()"
   ]
  },
  {
   "cell_type": "markdown",
   "metadata": {},
   "source": [
    "Data Processing"
   ]
  },
  {
   "cell_type": "code",
   "execution_count": 7,
   "metadata": {},
   "outputs": [
    {
     "data": {
      "text/html": [
       "<div>\n",
       "<style scoped>\n",
       "    .dataframe tbody tr th:only-of-type {\n",
       "        vertical-align: middle;\n",
       "    }\n",
       "\n",
       "    .dataframe tbody tr th {\n",
       "        vertical-align: top;\n",
       "    }\n",
       "\n",
       "    .dataframe thead th {\n",
       "        text-align: right;\n",
       "    }\n",
       "</style>\n",
       "<table border=\"1\" class=\"dataframe\">\n",
       "  <thead>\n",
       "    <tr style=\"text-align: right;\">\n",
       "      <th></th>\n",
       "      <th>id</th>\n",
       "      <th>pressure [MPa]</th>\n",
       "      <th>mass_flux [kg/m2-s]</th>\n",
       "      <th>x_e_out</th>\n",
       "      <th>D_e [mm]</th>\n",
       "      <th>D_h [mm]</th>\n",
       "      <th>length [mm]</th>\n",
       "    </tr>\n",
       "  </thead>\n",
       "  <tbody>\n",
       "    <tr>\n",
       "      <th>0</th>\n",
       "      <td>-1.731122</td>\n",
       "      <td>-2.247063</td>\n",
       "      <td>1.653022</td>\n",
       "      <td>-0.1041</td>\n",
       "      <td>-0.621788</td>\n",
       "      <td>-1.116743</td>\n",
       "      <td>3.750806</td>\n",
       "    </tr>\n",
       "    <tr>\n",
       "      <th>1</th>\n",
       "      <td>-1.729265</td>\n",
       "      <td>-2.265747</td>\n",
       "      <td>2.317286</td>\n",
       "      <td>-0.0596</td>\n",
       "      <td>-0.621788</td>\n",
       "      <td>-1.116743</td>\n",
       "      <td>3.398162</td>\n",
       "    </tr>\n",
       "    <tr>\n",
       "      <th>2</th>\n",
       "      <td>-1.727407</td>\n",
       "      <td>-2.261076</td>\n",
       "      <td>0.867983</td>\n",
       "      <td>-0.0395</td>\n",
       "      <td>-0.621788</td>\n",
       "      <td>-1.116743</td>\n",
       "      <td>1.735696</td>\n",
       "    </tr>\n",
       "    <tr>\n",
       "      <th>3</th>\n",
       "      <td>-1.725550</td>\n",
       "      <td>-2.193344</td>\n",
       "      <td>2.136123</td>\n",
       "      <td>-0.1460</td>\n",
       "      <td>-0.621788</td>\n",
       "      <td>-1.116743</td>\n",
       "      <td>4.506473</td>\n",
       "    </tr>\n",
       "    <tr>\n",
       "      <th>4</th>\n",
       "      <td>-1.723693</td>\n",
       "      <td>-2.188673</td>\n",
       "      <td>1.109534</td>\n",
       "      <td>-0.0849</td>\n",
       "      <td>-0.621788</td>\n",
       "      <td>-1.116743</td>\n",
       "      <td>3.599673</td>\n",
       "    </tr>\n",
       "  </tbody>\n",
       "</table>\n",
       "</div>"
      ],
      "text/plain": [
       "         id  pressure [MPa]  mass_flux [kg/m2-s]  x_e_out  D_e [mm]  D_h [mm]  \\\n",
       "0 -1.731122       -2.247063             1.653022  -0.1041 -0.621788 -1.116743   \n",
       "1 -1.729265       -2.265747             2.317286  -0.0596 -0.621788 -1.116743   \n",
       "2 -1.727407       -2.261076             0.867983  -0.0395 -0.621788 -1.116743   \n",
       "3 -1.725550       -2.193344             2.136123  -0.1460 -0.621788 -1.116743   \n",
       "4 -1.723693       -2.188673             1.109534  -0.0849 -0.621788 -1.116743   \n",
       "\n",
       "   length [mm]  \n",
       "0     3.750806  \n",
       "1     3.398162  \n",
       "2     1.735696  \n",
       "3     4.506473  \n",
       "4     3.599673  "
      ]
     },
     "execution_count": 7,
     "metadata": {},
     "output_type": "execute_result"
    }
   ],
   "source": [
    "# Handle missing values (if any)\n",
    "data = data.dropna()\n",
    "\n",
    "# If there are categorical variables, encode them\n",
    "# Assuming all variables are numerical for this task\n",
    "\n",
    "# Normalizing the features\n",
    "scaler = StandardScaler()\n",
    "scaled_data = scaler.fit_transform(data.drop(columns=['x_e_out']))\n",
    "scaled_data = pd.DataFrame(scaled_data, columns=data.columns[:-1])\n",
    "\n",
    "# Add the target column back\n",
    "scaled_data['x_e_out'] = data['x_e_out'].values\n",
    "\n",
    "# Display the first few rows of the scaled data\n",
    "scaled_data.head()"
   ]
  },
  {
   "cell_type": "markdown",
   "metadata": {},
   "source": [
    "Splitting the Data"
   ]
  },
  {
   "cell_type": "code",
   "execution_count": 8,
   "metadata": {},
   "outputs": [
    {
     "name": "stdout",
     "output_type": "stream",
     "text": [
      "torch.Size([1492, 6]) torch.Size([373, 6]) torch.Size([1492, 1]) torch.Size([373, 1])\n"
     ]
    }
   ],
   "source": [
    "# Features and target\n",
    "X = scaled_data.drop(columns=['x_e_out'])\n",
    "y = scaled_data['x_e_out']\n",
    "\n",
    "# Split the data\n",
    "X_train, X_test, y_train, y_test = train_test_split(X, y, test_size=0.2, random_state=42)\n",
    "\n",
    "# Convert to torch tensors\n",
    "X_train = torch.tensor(X_train.values, dtype=torch.float32)\n",
    "X_test = torch.tensor(X_test.values, dtype=torch.float32)\n",
    "y_train = torch.tensor(y_train.values, dtype=torch.float32).view(-1, 1)\n",
    "y_test = torch.tensor(y_test.values, dtype=torch.float32).view(-1, 1)\n",
    "\n",
    "print(X_train.shape, X_test.shape, y_train.shape, y_test.shape)"
   ]
  },
  {
   "cell_type": "markdown",
   "metadata": {},
   "source": [
    "Building the Neural Network"
   ]
  },
  {
   "cell_type": "code",
   "execution_count": 9,
   "metadata": {},
   "outputs": [
    {
     "name": "stdout",
     "output_type": "stream",
     "text": [
      "NeuralNetwork(\n",
      "  (layer1): Linear(in_features=6, out_features=64, bias=True)\n",
      "  (layer2): Linear(in_features=64, out_features=32, bias=True)\n",
      "  (output): Linear(in_features=32, out_features=1, bias=True)\n",
      ")\n"
     ]
    }
   ],
   "source": [
    "nn = torch.nn\n",
    "\n",
    "# Define the model\n",
    "class NeuralNetwork(nn.Module):\n",
    "    def __init__(self):\n",
    "        super(NeuralNetwork, self).__init__()\n",
    "        self.layer1 = nn.Linear(X_train.shape[1], 64)\n",
    "        self.layer2 = nn.Linear(64, 32)\n",
    "        self.output = nn.Linear(32, 1)\n",
    "    \n",
    "    def forward(self, x):\n",
    "        x = torch.relu(self.layer1(x))\n",
    "        x = torch.relu(self.layer2(x))\n",
    "        x = self.output(x)\n",
    "        return x\n",
    "\n",
    "model = NeuralNetwork()\n",
    "print(model)\n"
   ]
  },
  {
   "cell_type": "markdown",
   "metadata": {},
   "source": [
    "Training the Model"
   ]
  },
  {
   "cell_type": "code",
   "execution_count": 10,
   "metadata": {},
   "outputs": [
    {
     "name": "stdout",
     "output_type": "stream",
     "text": [
      "Epoch [10/50], Loss: 0.0220\n",
      "Epoch [20/50], Loss: 0.0141\n",
      "Epoch [30/50], Loss: 0.0084\n",
      "Epoch [40/50], Loss: 0.0075\n",
      "Epoch [50/50], Loss: 0.0064\n"
     ]
    }
   ],
   "source": [
    "optim = torch.optim\n",
    "\n",
    "# Loss and optimizer\n",
    "criterion = nn.MSELoss()\n",
    "optimizer = optim.Adam(model.parameters(), lr=0.001)\n",
    "\n",
    "# Training loop\n",
    "epochs = 50\n",
    "for epoch in range(epochs):\n",
    "    model.train()\n",
    "    \n",
    "    # Forward pass\n",
    "    outputs = model(X_train)\n",
    "    loss = criterion(outputs, y_train)\n",
    "    \n",
    "    # Backward pass and optimization\n",
    "    optimizer.zero_grad()\n",
    "    loss.backward()\n",
    "    optimizer.step()\n",
    "    \n",
    "    if (epoch+1) % 10 == 0:\n",
    "        print(f'Epoch [{epoch+1}/{epochs}], Loss: {loss.item():.4f}')\n"
   ]
  },
  {
   "cell_type": "markdown",
   "metadata": {},
   "source": [
    "Prediction and Evaluation"
   ]
  },
  {
   "cell_type": "code",
   "execution_count": 13,
   "metadata": {},
   "outputs": [
    {
     "name": "stdout",
     "output_type": "stream",
     "text": [
      "RMSE: 0.0784570723772049\n"
     ]
    }
   ],
   "source": [
    "from sklearn.metrics import mean_squared_error\n",
    "import numpy as np\n",
    "\n",
    "# Make predictions\n",
    "model.eval()\n",
    "with torch.no_grad():\n",
    "    y_pred = model(X_test)\n",
    "\n",
    "# Calculate RMSE\n",
    "rmse = np.sqrt(mean_squared_error(y_test, y_pred))\n",
    "print(f'RMSE: {rmse}')\n"
   ]
  }
 ],
 "metadata": {
  "kernelspec": {
   "display_name": "gened",
   "language": "python",
   "name": "python3"
  },
  "language_info": {
   "codemirror_mode": {
    "name": "ipython",
    "version": 3
   },
   "file_extension": ".py",
   "mimetype": "text/x-python",
   "name": "python",
   "nbconvert_exporter": "python",
   "pygments_lexer": "ipython3",
   "version": "3.11.9"
  }
 },
 "nbformat": 4,
 "nbformat_minor": 2
}
